{
 "cells": [
  {
   "cell_type": "code",
   "execution_count": 56,
   "metadata": {},
   "outputs": [],
   "source": [
    "#load the necessary packages\n",
    "\n",
    "import pandas as pd\n",
    "import numpy as np\n",
    "import matplotlib.pyplot as plt"
   ]
  },
  {
   "cell_type": "markdown",
   "metadata": {},
   "source": [
    "# Load the data"
   ]
  },
  {
   "cell_type": "code",
   "execution_count": 82,
   "metadata": {},
   "outputs": [],
   "source": [
    "data = pd.read_csv('train.csv', index_col=0)"
   ]
  },
  {
   "cell_type": "code",
   "execution_count": 15,
   "metadata": {},
   "outputs": [
    {
     "name": "stdout",
     "output_type": "stream",
     "text": [
      "Number of observation in train data: 80176\n"
     ]
    }
   ],
   "source": [
    "print(\"Number of observation in train data:\", data.shape[0])"
   ]
  },
  {
   "cell_type": "code",
   "execution_count": 7,
   "metadata": {},
   "outputs": [],
   "source": [
    "test = pd.read_csv('test.csv', index_col=0)"
   ]
  },
  {
   "cell_type": "code",
   "execution_count": 16,
   "metadata": {},
   "outputs": [
    {
     "name": "stdout",
     "output_type": "stream",
     "text": [
      "Number of observation in test data: 34365\n"
     ]
    }
   ],
   "source": [
    "print(\"Number of observation in test data:\", test.shape[0])"
   ]
  },
  {
   "cell_type": "code",
   "execution_count": 8,
   "metadata": {},
   "outputs": [
    {
     "data": {
      "text/html": [
       "<div>\n",
       "<style scoped>\n",
       "    .dataframe tbody tr th:only-of-type {\n",
       "        vertical-align: middle;\n",
       "    }\n",
       "\n",
       "    .dataframe tbody tr th {\n",
       "        vertical-align: top;\n",
       "    }\n",
       "\n",
       "    .dataframe thead th {\n",
       "        text-align: right;\n",
       "    }\n",
       "</style>\n",
       "<table border=\"1\" class=\"dataframe\">\n",
       "  <thead>\n",
       "    <tr style=\"text-align: right;\">\n",
       "      <th></th>\n",
       "      <th>date</th>\n",
       "      <th>org</th>\n",
       "      <th>tld</th>\n",
       "      <th>ccs</th>\n",
       "      <th>bcced</th>\n",
       "      <th>mail_type</th>\n",
       "      <th>images</th>\n",
       "      <th>urls</th>\n",
       "      <th>salutations</th>\n",
       "      <th>designation</th>\n",
       "      <th>chars_in_subject</th>\n",
       "      <th>chars_in_body</th>\n",
       "      <th>label</th>\n",
       "    </tr>\n",
       "  </thead>\n",
       "  <tbody>\n",
       "    <tr>\n",
       "      <th>0</th>\n",
       "      <td>Mon, 6 Nov 2017 11:13:45 +0100</td>\n",
       "      <td>reply</td>\n",
       "      <td>ebay.in</td>\n",
       "      <td>0</td>\n",
       "      <td>0</td>\n",
       "      <td>multipart/alternative</td>\n",
       "      <td>35</td>\n",
       "      <td>120</td>\n",
       "      <td>0</td>\n",
       "      <td>0</td>\n",
       "      <td>49.0</td>\n",
       "      <td>80027</td>\n",
       "      <td>2</td>\n",
       "    </tr>\n",
       "    <tr>\n",
       "      <th>1</th>\n",
       "      <td>Wed, 14 Feb 2018 11:00:16 -0000</td>\n",
       "      <td>edm</td>\n",
       "      <td>efinmail.com</td>\n",
       "      <td>0</td>\n",
       "      <td>0</td>\n",
       "      <td>multipart/alternative</td>\n",
       "      <td>1</td>\n",
       "      <td>7</td>\n",
       "      <td>0</td>\n",
       "      <td>0</td>\n",
       "      <td>107.0</td>\n",
       "      <td>2961</td>\n",
       "      <td>1</td>\n",
       "    </tr>\n",
       "    <tr>\n",
       "      <th>2</th>\n",
       "      <td>Wed, 6 Jul 2016 19:53:37 +0000</td>\n",
       "      <td>usebackpack</td>\n",
       "      <td>com</td>\n",
       "      <td>0</td>\n",
       "      <td>0</td>\n",
       "      <td>text/html</td>\n",
       "      <td>4</td>\n",
       "      <td>17</td>\n",
       "      <td>0</td>\n",
       "      <td>0</td>\n",
       "      <td>35.0</td>\n",
       "      <td>25149</td>\n",
       "      <td>1</td>\n",
       "    </tr>\n",
       "    <tr>\n",
       "      <th>3</th>\n",
       "      <td>Fri, 11 Oct 2019 11:25:40 +0200</td>\n",
       "      <td>granular</td>\n",
       "      <td>ai</td>\n",
       "      <td>0</td>\n",
       "      <td>0</td>\n",
       "      <td>multipart/mixed</td>\n",
       "      <td>0</td>\n",
       "      <td>0</td>\n",
       "      <td>0</td>\n",
       "      <td>0</td>\n",
       "      <td>15.0</td>\n",
       "      <td>635296</td>\n",
       "      <td>1</td>\n",
       "    </tr>\n",
       "    <tr>\n",
       "      <th>4</th>\n",
       "      <td>Tue, 07 Nov 2017 11:07:18 +0000 (UTC)</td>\n",
       "      <td>github</td>\n",
       "      <td>com</td>\n",
       "      <td>1</td>\n",
       "      <td>0</td>\n",
       "      <td>multipart/alternative</td>\n",
       "      <td>2</td>\n",
       "      <td>11</td>\n",
       "      <td>0</td>\n",
       "      <td>0</td>\n",
       "      <td>49.0</td>\n",
       "      <td>2355</td>\n",
       "      <td>1</td>\n",
       "    </tr>\n",
       "  </tbody>\n",
       "</table>\n",
       "</div>"
      ],
      "text/plain": [
       "                                    date          org           tld  ccs  \\\n",
       "0         Mon, 6 Nov 2017 11:13:45 +0100        reply       ebay.in    0   \n",
       "1        Wed, 14 Feb 2018 11:00:16 -0000          edm  efinmail.com    0   \n",
       "2         Wed, 6 Jul 2016 19:53:37 +0000  usebackpack           com    0   \n",
       "3        Fri, 11 Oct 2019 11:25:40 +0200     granular            ai    0   \n",
       "4  Tue, 07 Nov 2017 11:07:18 +0000 (UTC)       github           com    1   \n",
       "\n",
       "   bcced              mail_type  images  urls  salutations  designation  \\\n",
       "0      0  multipart/alternative      35   120            0            0   \n",
       "1      0  multipart/alternative       1     7            0            0   \n",
       "2      0              text/html       4    17            0            0   \n",
       "3      0        multipart/mixed       0     0            0            0   \n",
       "4      0  multipart/alternative       2    11            0            0   \n",
       "\n",
       "   chars_in_subject  chars_in_body  label  \n",
       "0              49.0          80027      2  \n",
       "1             107.0           2961      1  \n",
       "2              35.0          25149      1  \n",
       "3              15.0         635296      1  \n",
       "4              49.0           2355      1  "
      ]
     },
     "execution_count": 8,
     "metadata": {},
     "output_type": "execute_result"
    }
   ],
   "source": [
    "data.head()"
   ]
  },
  {
   "cell_type": "markdown",
   "metadata": {},
   "source": [
    "# Data quality check"
   ]
  },
  {
   "cell_type": "markdown",
   "metadata": {},
   "source": [
    "## Duplicates"
   ]
  },
  {
   "cell_type": "code",
   "execution_count": 44,
   "metadata": {
    "scrolled": false
   },
   "outputs": [
    {
     "name": "stdout",
     "output_type": "stream",
     "text": [
      "Number of duplicate rows in train data: 10620\n"
     ]
    }
   ],
   "source": [
    "#check for full duplicates in train data\n",
    "\n",
    "fullduplicates = data[data.duplicated()]\n",
    "print(\"Number of duplicate rows in train data:\", fullduplicates.shape[0])"
   ]
  },
  {
   "cell_type": "code",
   "execution_count": 45,
   "metadata": {},
   "outputs": [
    {
     "name": "stdout",
     "output_type": "stream",
     "text": [
      "Number of duplicate rows in test data: 6425\n"
     ]
    }
   ],
   "source": [
    "#check for duplicates in test data\n",
    "\n",
    "testduplicates = test[test.duplicated()]\n",
    "print(\"Number of duplicate rows in test data:\", testduplicates.shape[0])"
   ]
  },
  {
   "cell_type": "code",
   "execution_count": 46,
   "metadata": {
    "scrolled": true
   },
   "outputs": [
    {
     "name": "stdout",
     "output_type": "stream",
     "text": [
      "Total number of rows that have noisy labels: 40437\n"
     ]
    }
   ],
   "source": [
    "#check for noisy labels (same attributes, different labels)\n",
    "\n",
    "no_dupl = data.drop_duplicates() #drop full duplicates\n",
    "noisy_lbl = no_dupl.drop(columns = ['label']) #drop the label column\n",
    "noisy_lbl = noisy_lbl[noisy_lbl.duplicated(keep=False)]\n",
    "print(\"Total number of rows that have noisy labels:\", noisy_lbl.shape[0])"
   ]
  },
  {
   "cell_type": "code",
   "execution_count": 63,
   "metadata": {},
   "outputs": [
    {
     "data": {
      "text/plain": [
       "<matplotlib.axes._subplots.AxesSubplot at 0x7f8102954100>"
      ]
     },
     "execution_count": 63,
     "metadata": {},
     "output_type": "execute_result"
    },
    {
     "data": {
      "image/png": "[encoded data removed]",
      "text/plain": [
       "<Figure size 432x288 with 1 Axes>"
      ]
     },
     "metadata": {
      "needs_background": "light"
     },
     "output_type": "display_data"
    }
   ],
   "source": [
    "#see which labels are noisy\n",
    "\n",
    "rows = noisy_lbl.index\n",
    "duplicated = no_dupl.loc[rows,]\n",
    "\n",
    "order_lbl = [0, 1, 2, 3, 4, 5, 6, 7]\n",
    "lbl_count = duplicated.label.value_counts().loc[order_lbl]\n",
    "lbl_count.plot(kind='bar', title='Noisy label distribution')"
   ]
  },
  {
   "cell_type": "code",
   "execution_count": 75,
   "metadata": {},
   "outputs": [
    {
     "data": {
      "text/plain": [
       "<matplotlib.axes._subplots.AxesSubplot at 0x7f80fcb708b0>"
      ]
     },
     "execution_count": 75,
     "metadata": {},
     "output_type": "execute_result"
    },
    {
     "data": {
      "image/png": "[encoded data removed]",
      "text/plain": [
       "<Figure size 432x288 with 1 Axes>"
      ]
     },
     "metadata": {
      "needs_background": "light"
     },
     "output_type": "display_data"
    }
   ],
   "source": [
    "#versus total number of labels\n",
    "\n",
    "clean = no_dupl.drop(index=rows)\n",
    "lbl_clean = clean.label.value_counts().loc[order_lbl]\n",
    "lbl_clean.plot(kind='bar', title='Clean label distribution')"
   ]
  },
  {
   "cell_type": "markdown",
   "metadata": {},
   "source": [
    "Here noisy labels have the same distribution as clean labels"
   ]
  },
  {
   "cell_type": "markdown",
   "metadata": {},
   "source": [
    "## Missing values"
   ]
  },
  {
   "cell_type": "code",
   "execution_count": 83,
   "metadata": {
    "scrolled": true
   },
   "outputs": [
    {
     "data": {
      "text/plain": [
       "date                   0\n",
       "org                 3171\n",
       "tld                 3173\n",
       "ccs                    0\n",
       "bcced                  0\n",
       "mail_type            165\n",
       "images                 0\n",
       "urls                   0\n",
       "salutations            0\n",
       "designation            0\n",
       "chars_in_subject      13\n",
       "chars_in_body          0\n",
       "label                  0\n",
       "dtype: int64"
      ]
     },
     "execution_count": 83,
     "metadata": {},
     "output_type": "execute_result"
    }
   ],
   "source": [
    "#check which columns have missing values in train data\n",
    "\n",
    "no_dupl.isnull().sum()"
   ]
  },
  {
   "cell_type": "code",
   "execution_count": 77,
   "metadata": {},
   "outputs": [
    {
     "data": {
      "text/plain": [
       "date                   0\n",
       "org                 1536\n",
       "tld                 1536\n",
       "ccs                    0\n",
       "bcced                  0\n",
       "mail_type             80\n",
       "images                 0\n",
       "urls                   0\n",
       "salutations            0\n",
       "designation            0\n",
       "chars_in_subject       6\n",
       "chars_in_body          0\n",
       "dtype: int64"
      ]
     },
     "execution_count": 77,
     "metadata": {},
     "output_type": "execute_result"
    }
   ],
   "source": [
    "#check which columns have missing values in test data\n",
    "\n",
    "test.isnull().sum()"
   ]
  },
  {
   "cell_type": "markdown",
   "metadata": {},
   "source": [
    "# Variable exploration"
   ]
  },
  {
   "cell_type": "code",
   "execution_count": 114,
   "metadata": {},
   "outputs": [
    {
     "data": {
      "text/plain": [
       "date                 object\n",
       "org                  object\n",
       "tld                  object\n",
       "ccs                   int64\n",
       "bcced                 int64\n",
       "mail_type            object\n",
       "images                int64\n",
       "urls                  int64\n",
       "salutations           int64\n",
       "designation           int64\n",
       "chars_in_subject    float64\n",
       "chars_in_body         int64\n",
       "label                 int64\n",
       "dtype: object"
      ]
     },
     "execution_count": 114,
     "metadata": {},
     "output_type": "execute_result"
    }
   ],
   "source": [
    "#summary of the data types\n",
    "\n",
    "no_dupl.dtypes"
   ]
  },
  {
   "cell_type": "markdown",
   "metadata": {},
   "source": [
    "## Target"
   ]
  },
  {
   "cell_type": "code",
   "execution_count": 115,
   "metadata": {},
   "outputs": [
    {
     "data": {
      "text/plain": [
       "<matplotlib.axes._subplots.AxesSubplot at 0x7f80ed3ebe80>"
      ]
     },
     "execution_count": 115,
     "metadata": {},
     "output_type": "execute_result"
    },
    {
     "data": {
      "image/png": "[encoded data removed]",
      "text/plain": [
       "<Figure size 432x288 with 1 Axes>"
      ]
     },
     "metadata": {
      "needs_background": "light"
     },
     "output_type": "display_data"
    }
   ],
   "source": [
    "#show class distribution in train data\n",
    "\n",
    "order_lbl = [0, 1, 2, 3, 4, 5, 6, 7]\n",
    "label_count = no_dupl.label.value_counts().loc[order_lbl]\n",
    "label_count.plot(kind='bar', title='Target label distribution')"
   ]
  },
  {
   "cell_type": "markdown",
   "metadata": {},
   "source": [
    "## Numeric attributes"
   ]
  },
  {
   "cell_type": "code",
   "execution_count": 116,
   "metadata": {
    "scrolled": true
   },
   "outputs": [
    {
     "data": {
      "text/html": [
       "<div>\n",
       "<style scoped>\n",
       "    .dataframe tbody tr th:only-of-type {\n",
       "        vertical-align: middle;\n",
       "    }\n",
       "\n",
       "    .dataframe tbody tr th {\n",
       "        vertical-align: top;\n",
       "    }\n",
       "\n",
       "    .dataframe thead th {\n",
       "        text-align: right;\n",
       "    }\n",
       "</style>\n",
       "<table border=\"1\" class=\"dataframe\">\n",
       "  <thead>\n",
       "    <tr style=\"text-align: right;\">\n",
       "      <th></th>\n",
       "      <th>ccs</th>\n",
       "      <th>bcced</th>\n",
       "      <th>images</th>\n",
       "      <th>urls</th>\n",
       "      <th>salutations</th>\n",
       "      <th>designation</th>\n",
       "      <th>chars_in_subject</th>\n",
       "      <th>chars_in_body</th>\n",
       "    </tr>\n",
       "  </thead>\n",
       "  <tbody>\n",
       "    <tr>\n",
       "      <th>count</th>\n",
       "      <td>69556.000000</td>\n",
       "      <td>69556.000000</td>\n",
       "      <td>69556.000000</td>\n",
       "      <td>69556.000000</td>\n",
       "      <td>69556.000000</td>\n",
       "      <td>69556.000000</td>\n",
       "      <td>69543.000000</td>\n",
       "      <td>6.955600e+04</td>\n",
       "    </tr>\n",
       "    <tr>\n",
       "      <th>mean</th>\n",
       "      <td>0.419849</td>\n",
       "      <td>0.002573</td>\n",
       "      <td>8.596455</td>\n",
       "      <td>36.825565</td>\n",
       "      <td>0.388665</td>\n",
       "      <td>0.104693</td>\n",
       "      <td>52.903340</td>\n",
       "      <td>1.919548e+05</td>\n",
       "    </tr>\n",
       "    <tr>\n",
       "      <th>std</th>\n",
       "      <td>2.965617</td>\n",
       "      <td>0.050664</td>\n",
       "      <td>327.895784</td>\n",
       "      <td>102.018174</td>\n",
       "      <td>0.487450</td>\n",
       "      <td>0.306159</td>\n",
       "      <td>34.219885</td>\n",
       "      <td>1.870509e+06</td>\n",
       "    </tr>\n",
       "    <tr>\n",
       "      <th>min</th>\n",
       "      <td>0.000000</td>\n",
       "      <td>0.000000</td>\n",
       "      <td>0.000000</td>\n",
       "      <td>0.000000</td>\n",
       "      <td>0.000000</td>\n",
       "      <td>0.000000</td>\n",
       "      <td>0.000000</td>\n",
       "      <td>4.000000e+00</td>\n",
       "    </tr>\n",
       "    <tr>\n",
       "      <th>25%</th>\n",
       "      <td>0.000000</td>\n",
       "      <td>0.000000</td>\n",
       "      <td>0.000000</td>\n",
       "      <td>4.000000</td>\n",
       "      <td>0.000000</td>\n",
       "      <td>0.000000</td>\n",
       "      <td>33.000000</td>\n",
       "      <td>5.165000e+03</td>\n",
       "    </tr>\n",
       "    <tr>\n",
       "      <th>50%</th>\n",
       "      <td>0.000000</td>\n",
       "      <td>0.000000</td>\n",
       "      <td>3.000000</td>\n",
       "      <td>19.000000</td>\n",
       "      <td>0.000000</td>\n",
       "      <td>0.000000</td>\n",
       "      <td>44.000000</td>\n",
       "      <td>2.136500e+04</td>\n",
       "    </tr>\n",
       "    <tr>\n",
       "      <th>75%</th>\n",
       "      <td>0.000000</td>\n",
       "      <td>0.000000</td>\n",
       "      <td>9.000000</td>\n",
       "      <td>48.000000</td>\n",
       "      <td>1.000000</td>\n",
       "      <td>0.000000</td>\n",
       "      <td>64.000000</td>\n",
       "      <td>4.837100e+04</td>\n",
       "    </tr>\n",
       "    <tr>\n",
       "      <th>max</th>\n",
       "      <td>179.000000</td>\n",
       "      <td>1.000000</td>\n",
       "      <td>83481.000000</td>\n",
       "      <td>21540.000000</td>\n",
       "      <td>1.000000</td>\n",
       "      <td>1.000000</td>\n",
       "      <td>606.000000</td>\n",
       "      <td>7.438108e+07</td>\n",
       "    </tr>\n",
       "  </tbody>\n",
       "</table>\n",
       "</div>"
      ],
      "text/plain": [
       "                ccs         bcced        images          urls   salutations  \\\n",
       "count  69556.000000  69556.000000  69556.000000  69556.000000  69556.000000   \n",
       "mean       0.419849      0.002573      8.596455     36.825565      0.388665   \n",
       "std        2.965617      0.050664    327.895784    102.018174      0.487450   \n",
       "min        0.000000      0.000000      0.000000      0.000000      0.000000   \n",
       "25%        0.000000      0.000000      0.000000      4.000000      0.000000   \n",
       "50%        0.000000      0.000000      3.000000     19.000000      0.000000   \n",
       "75%        0.000000      0.000000      9.000000     48.000000      1.000000   \n",
       "max      179.000000      1.000000  83481.000000  21540.000000      1.000000   \n",
       "\n",
       "        designation  chars_in_subject  chars_in_body  \n",
       "count  69556.000000      69543.000000   6.955600e+04  \n",
       "mean       0.104693         52.903340   1.919548e+05  \n",
       "std        0.306159         34.219885   1.870509e+06  \n",
       "min        0.000000          0.000000   4.000000e+00  \n",
       "25%        0.000000         33.000000   5.165000e+03  \n",
       "50%        0.000000         44.000000   2.136500e+04  \n",
       "75%        0.000000         64.000000   4.837100e+04  \n",
       "max        1.000000        606.000000   7.438108e+07  "
      ]
     },
     "execution_count": 116,
     "metadata": {},
     "output_type": "execute_result"
    }
   ],
   "source": [
    "#summary of the numeric data\n",
    "\n",
    "no_dupl.drop(columns = ['label']).describe()"
   ]
  },
  {
   "cell_type": "code",
   "execution_count": 142,
   "metadata": {
    "scrolled": true
   },
   "outputs": [
    {
     "name": "stdout",
     "output_type": "stream",
     "text": [
      "Emails with 10 or less ccs: ccs    69334\n",
      "dtype: int64\n",
      "Emails with more than 10 ccs: ccs    222\n",
      "dtype: int64\n"
     ]
    },
    {
     "data": {
      "image/png": "[encoded data removed]",
      "text/plain": [
       "<Figure size 432x288 with 1 Axes>"
      ]
     },
     "metadata": {
      "needs_background": "light"
     },
     "output_type": "display_data"
    }
   ],
   "source": [
    "#distribution of number of cc'ed individuals below 10 and above 10\n",
    "\n",
    "ccs = no_dupl[['ccs']]\n",
    "ccs.plot.hist(bins=10, range = (0,10))\n",
    "\n",
    "ccs_under_10 = ccs[ccs['ccs']<=10].count()\n",
    "ccs_over_10 = ccs[ccs['ccs']>10].count()\n",
    "\n",
    "print(\"Emails with 10 or less ccs:\", ccs_under_10)\n",
    "print(\"Emails with more than 10 ccs:\", ccs_over_10)"
   ]
  },
  {
   "cell_type": "code",
   "execution_count": 143,
   "metadata": {
    "scrolled": true
   },
   "outputs": [
    {
     "name": "stdout",
     "output_type": "stream",
     "text": [
      "Emails with 40 or less images: images    68566\n",
      "dtype: int64\n",
      "Emails with more than 40 images: images    990\n",
      "dtype: int64\n"
     ]
    },
    {
     "data": {
      "image/png": "[encoded data removed]",
      "text/plain": [
       "<Figure size 432x288 with 1 Axes>"
      ]
     },
     "metadata": {
      "needs_background": "light"
     },
     "output_type": "display_data"
    }
   ],
   "source": [
    "#distribution of number of images below 40 and above 40\n",
    "\n",
    "images = no_dupl[['images']]\n",
    "images.plot.hist(bins=40, range = (0,40))\n",
    "\n",
    "img_under_40 = images[images['images']<=40].count()\n",
    "img_over_40 = images[images['images']>40].count()\n",
    "\n",
    "print(\"Emails with 40 or less images:\", img_under_40)\n",
    "print(\"Emails with more than 40 images:\", img_over_40)"
   ]
  },
  {
   "cell_type": "code",
   "execution_count": 144,
   "metadata": {},
   "outputs": [
    {
     "name": "stdout",
     "output_type": "stream",
     "text": [
      "Emails with 200 or less urls: urls    68441\n",
      "dtype: int64\n",
      "Emails with more than 200 urls: urls    1115\n",
      "dtype: int64\n"
     ]
    },
    {
     "data": {
      "image/png": "[encoded data removed]",
      "text/plain": [
       "<Figure size 432x288 with 1 Axes>"
      ]
     },
     "metadata": {
      "needs_background": "light"
     },
     "output_type": "display_data"
    }
   ],
   "source": [
    "#distribution of number of urls below 200 and above 200\n",
    "\n",
    "urls = no_dupl[['urls']]\n",
    "urls.plot.hist(bins=50, range = (0,200))\n",
    "\n",
    "urls_under_200 = urls[urls['urls']<=200].count()\n",
    "urls_over_200 = urls[urls['urls']>200].count()\n",
    "\n",
    "print(\"Emails with 200 or less urls:\", urls_under_200)\n",
    "print(\"Emails with more than 200 urls:\", urls_over_200)"
   ]
  },
  {
   "cell_type": "code",
   "execution_count": 145,
   "metadata": {},
   "outputs": [
    {
     "data": {
      "text/plain": [
       "<matplotlib.axes._subplots.AxesSubplot at 0x7f80eeec8100>"
      ]
     },
     "execution_count": 145,
     "metadata": {},
     "output_type": "execute_result"
    },
    {
     "data": {
      "image/png": "[encoded data removed]",
      "text/plain": [
       "<Figure size 432x288 with 1 Axes>"
      ]
     },
     "metadata": {
      "needs_background": "light"
     },
     "output_type": "display_data"
    }
   ],
   "source": [
    "#distribution of characters in subjects\n",
    "\n",
    "\n",
    "no_dupl[['chars_in_subject']].plot.hist(bins=100)"
   ]
  },
  {
   "cell_type": "code",
   "execution_count": 146,
   "metadata": {},
   "outputs": [
    {
     "name": "stdout",
     "output_type": "stream",
     "text": [
      "Emails with 100000 or less characters in body: chars_in_body    63287\n",
      "dtype: int64\n",
      "Emails with more than 100000 characters in body: chars_in_body    6269\n",
      "dtype: int64\n"
     ]
    },
    {
     "data": {
      "image/png": "[encoded data removed]",
      "text/plain": [
       "<Figure size 432x288 with 1 Axes>"
      ]
     },
     "metadata": {
      "needs_background": "light"
     },
     "output_type": "display_data"
    }
   ],
   "source": [
    "#distribution of number of characters in body below 60000 and above 60000\n",
    "\n",
    "chars = no_dupl[['chars_in_body']]\n",
    "chars.plot.hist(bins=50, range = (0,100000))\n",
    "\n",
    "chars_under_100000 = chars[chars['chars_in_body']<=100000].count()\n",
    "chars_over_100000 = chars[chars['chars_in_body']>100000].count()\n",
    "\n",
    "print(\"Emails with 100000 or less characters in body:\", chars_under_100000)\n",
    "print(\"Emails with more than 100000 characters in body:\", chars_over_100000)"
   ]
  },
  {
   "cell_type": "markdown",
   "metadata": {},
   "source": [
    "## Boolean attributes"
   ]
  },
  {
   "cell_type": "code",
   "execution_count": 121,
   "metadata": {
    "scrolled": true
   },
   "outputs": [
    {
     "data": {
      "text/plain": [
       "bcced\n",
       "0    69377\n",
       "1      179\n",
       "dtype: int64"
      ]
     },
     "execution_count": 121,
     "metadata": {},
     "output_type": "execute_result"
    },
    {
     "data": {
      "image/png": "[encoded data removed]",
      "text/plain": [
       "<Figure size 432x288 with 1 Axes>"
      ]
     },
     "metadata": {
      "needs_background": "light"
     },
     "output_type": "display_data"
    }
   ],
   "source": [
    "#distribution of bcc'ed flag (True/False)\n",
    "\n",
    "bcced_count = no_dupl.bcced.value_counts()\n",
    "bcced_count.plot(kind='bar', title='Count (bcced)')\n",
    "no_dupl.groupby(['bcced']).size()"
   ]
  },
  {
   "cell_type": "code",
   "execution_count": 125,
   "metadata": {},
   "outputs": [
    {
     "data": {
      "text/plain": [
       "salutations\n",
       "0    42522\n",
       "1    27034\n",
       "dtype: int64"
      ]
     },
     "execution_count": 125,
     "metadata": {},
     "output_type": "execute_result"
    },
    {
     "data": {
      "image/png": "[encoded data removed]",
      "text/plain": [
       "<Figure size 432x288 with 1 Axes>"
      ]
     },
     "metadata": {
      "needs_background": "light"
     },
     "output_type": "display_data"
    }
   ],
   "source": [
    "#distribution of salutation flag (True/False)\n",
    "\n",
    "salutations_count = no_dupl.salutations.value_counts()\n",
    "salutations_count.plot(kind='bar', title='Count (salutations)')\n",
    "no_dupl.groupby(['salutations']).size()"
   ]
  },
  {
   "cell_type": "code",
   "execution_count": 126,
   "metadata": {},
   "outputs": [
    {
     "data": {
      "text/plain": [
       "designation\n",
       "0    62274\n",
       "1     7282\n",
       "dtype: int64"
      ]
     },
     "execution_count": 126,
     "metadata": {},
     "output_type": "execute_result"
    },
    {
     "data": {
      "image/png": "[encoded data removed]",
      "text/plain": [
       "<Figure size 432x288 with 1 Axes>"
      ]
     },
     "metadata": {
      "needs_background": "light"
     },
     "output_type": "display_data"
    }
   ],
   "source": [
    "#distribution of designation flag (True/False)\n",
    "\n",
    "designation_count = no_dupl.designation.value_counts()\n",
    "designation_count.plot(kind='bar', title='Count (designation)')\n",
    "no_dupl.groupby(['designation']).size()"
   ]
  },
  {
   "cell_type": "markdown",
   "metadata": {},
   "source": [
    "## Categorical attributes"
   ]
  },
  {
   "cell_type": "code",
   "execution_count": 132,
   "metadata": {},
   "outputs": [
    {
     "data": {
      "text/plain": [
       "org\n",
       "iiitd              15347\n",
       "usebackpack         3967\n",
       "google              3372\n",
       "amazon              3112\n",
       "quora               2143\n",
       "twitter             2078\n",
       "linkedin            1990\n",
       "youtube             1146\n",
       "github              1049\n",
       "gmail               1025\n",
       "centralesupelec      875\n",
       "topcoder             724\n",
       "coursera             720\n",
       "phpclasses           667\n",
       "flipkartletters      641\n",
       "udacity              555\n",
       "mailer               550\n",
       "medium               540\n",
       "granular             499\n",
       "nvidia               492\n",
       "dtype: int64"
      ]
     },
     "execution_count": 132,
     "metadata": {},
     "output_type": "execute_result"
    }
   ],
   "source": [
    "#top organizations\n",
    "\n",
    "no_dupl.groupby(['org']).size().nlargest(20)"
   ]
  },
  {
   "cell_type": "code",
   "execution_count": 131,
   "metadata": {},
   "outputs": [
    {
     "data": {
      "text/plain": [
       "tld\n",
       "com                  31054\n",
       "ac.in                15426\n",
       "in                    3721\n",
       "org                   3260\n",
       "fr                    1464\n",
       "co.in                  697\n",
       "gov.in                 651\n",
       "ai                     642\n",
       "netflix.com            533\n",
       "net                    455\n",
       "foodpanda.in           404\n",
       "ebay.in                392\n",
       "google.com             365\n",
       "intercom-mail.com      293\n",
       "grammarly.com          277\n",
       "mail.coursera.org      272\n",
       "co                     262\n",
       "microsoft.com          231\n",
       "speakingtree.in        229\n",
       "bookmyshow.com         224\n",
       "dtype: int64"
      ]
     },
     "execution_count": 131,
     "metadata": {},
     "output_type": "execute_result"
    }
   ],
   "source": [
    "#top domains\n",
    "\n",
    "no_dupl.groupby(['tld']).size().nlargest(20)"
   ]
  },
  {
   "cell_type": "code",
   "execution_count": 124,
   "metadata": {},
   "outputs": [
    {
     "data": {
      "text/plain": [
       "mail_type\n",
       "Multipart/Alternative        3\n",
       "Multipart/Mixed             39\n",
       "Text/Html                   10\n",
       "multipart/IDM                1\n",
       "multipart/alternative    50379\n",
       "multipart/mixed           5543\n",
       "multipart/related         1647\n",
       "multipart/report            12\n",
       "multipart/signed            25\n",
       "text/calendar                2\n",
       "text/html                 9294\n",
       "text/html                   58\n",
       "text/plain                2378\n",
       "dtype: int64"
      ]
     },
     "execution_count": 124,
     "metadata": {},
     "output_type": "execute_result"
    }
   ],
   "source": [
    "#mail types\n",
    "\n",
    "no_dupl.groupby(['mail_type']).size()"
   ]
  },
  {
   "cell_type": "markdown",
   "metadata": {},
   "source": [
    "## New features"
   ]
  },
  {
   "cell_type": "markdown",
   "metadata": {},
   "source": [
    "If additional features are created, they can be implemented and explored here."
   ]
  },
  {
   "cell_type": "code",
   "execution_count": 147,
   "metadata": {},
   "outputs": [],
   "source": [
    "#create day of the week, hour, and month elements\n",
    "\n",
    "\n",
    "hours=[]\n",
    "day=[]\n",
    "month=[]\n",
    "dates = no_dupl[['date']].date\n",
    "for element in dates:\n",
    "    splited = element.split(\" \")\n",
    "    if len(splited)>=6:\n",
    "        hrs = splited[4].split(\":\")\n",
    "        hr= hrs[0]\n",
    "        if len(hr)==2:\n",
    "            hours.append(hr)\n",
    "        else: \n",
    "            hours.append(None)\n",
    "    elif len(splited)>=4:\n",
    "        hrs = splited[3].split(\":\")\n",
    "        hr= hrs[0]\n",
    "        if len(hr)==2:\n",
    "            hours.append(hr)\n",
    "        else: \n",
    "            hours.append(None)\n",
    "    else:\n",
    "        hours.append(None)\n",
    "  \n",
    "    d = splited[0]\n",
    "    if len(d)==4:\n",
    "        day.append(d[:-1])\n",
    "    else:\n",
    "        day.append(None)\n",
    "    if len(splited)>=3:\n",
    "        if len(splited[2])==3:\n",
    "            month.append(splited[2])\n",
    "        else: \n",
    "            month.append(None)\n",
    "    else:\n",
    "        month.append(None)\n",
    "\n",
    "\n",
    "\n",
    "#insert the new columns\n",
    "\n",
    "no_dupl.insert(2,\"Hour\",hours)\n",
    "no_dupl.insert(3,\"Day\",day)\n",
    "no_dupl.insert(4,\"Month\",month)"
   ]
  },
  {
   "cell_type": "code",
   "execution_count": 148,
   "metadata": {
    "scrolled": true
   },
   "outputs": [
    {
     "data": {
      "text/plain": [
       "<matplotlib.axes._subplots.AxesSubplot at 0x7f80eeed5190>"
      ]
     },
     "execution_count": 148,
     "metadata": {},
     "output_type": "execute_result"
    },
    {
     "data": {
      "image/png": "[encoded data removed]",
      "text/plain": [
       "<Figure size 432x288 with 1 Axes>"
      ]
     },
     "metadata": {
      "needs_background": "light"
     },
     "output_type": "display_data"
    }
   ],
   "source": [
    "#months distribution\n",
    "\n",
    "order_mn = ['Jan','Feb','Mar','Apr','May','Jun','Jul','Aug','Sep','Oct','Nov','Dec']\n",
    "month_count = no_dupl.Month.value_counts().loc[order_mn]\n",
    "month_count.plot(kind='bar', title='Count (Months)')"
   ]
  },
  {
   "cell_type": "code",
   "execution_count": 149,
   "metadata": {},
   "outputs": [
    {
     "data": {
      "text/plain": [
       "<matplotlib.axes._subplots.AxesSubplot at 0x7f80ef62ff70>"
      ]
     },
     "execution_count": 149,
     "metadata": {},
     "output_type": "execute_result"
    },
    {
     "data": {
      "image/png": "[encoded data removed]",
      "text/plain": [
       "<Figure size 432x288 with 1 Axes>"
      ]
     },
     "metadata": {
      "needs_background": "light"
     },
     "output_type": "display_data"
    }
   ],
   "source": [
    "#days of the week distribution\n",
    "\n",
    "order_w = ['Mon', 'Tue', 'Wed', 'Thu', 'Fri', 'Sat', 'Sun']\n",
    "weekday_count = no_dupl.Day.value_counts().loc[order_w]\n",
    "weekday_count.plot(kind='bar', title='Count (Days of week)')"
   ]
  },
  {
   "cell_type": "code",
   "execution_count": 150,
   "metadata": {},
   "outputs": [
    {
     "data": {
      "text/plain": [
       "<matplotlib.axes._subplots.AxesSubplot at 0x7f80ef699fd0>"
      ]
     },
     "execution_count": 150,
     "metadata": {},
     "output_type": "execute_result"
    },
    {
     "data": {
      "image/png": "[encoded data removed]",
      "text/plain": [
       "<Figure size 432x288 with 1 Axes>"
      ]
     },
     "metadata": {
      "needs_background": "light"
     },
     "output_type": "display_data"
    }
   ],
   "source": [
    "#hours distribution\n",
    "\n",
    "order_hr = ['00', '01', '02', '03', '04', '05', '06', '07', '08', '09', '10', '11', '12', '13', '14', '15', '16', '17', '18', '19', '20', '21', '22', '23']\n",
    "hour_count = no_dupl.Hour.value_counts().loc[order_hr]\n",
    "hour_count.plot(kind='bar', title='Count (Hour of the day)')"
   ]
  }
 ],
 "metadata": {
  "kernelspec": {
   "display_name": "Python 3",
   "language": "python",
   "name": "python3"
  },
  "language_info": {
   "codemirror_mode": {
    "name": "ipython",
    "version": 3
   },
   "file_extension": ".py",
   "mimetype": "text/x-python",
   "name": "python",
   "nbconvert_exporter": "python",
   "pygments_lexer": "ipython3",
   "version": "3.8.3"
  }
 },
 "nbformat": 4,
 "nbformat_minor": 4
}
